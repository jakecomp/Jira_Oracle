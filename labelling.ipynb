{
 "cells": [
  {
   "cell_type": "code",
   "execution_count": 14,
   "metadata": {},
   "outputs": [],
   "source": [
    "import pandas as pd\n",
    "import numpy as np\n",
    "\n",
    "df= pd.read_csv(\"master_dataset.csv\")\n",
    "df[\"Grade\"] = np.select(\n",
    "    [df[\"effort(s)\"] > 40000,\n",
    "     df[\"effort(s)\"] <= 20000,\n",
    "     df[\"effort(s)\"].between(20000, 40000)],\n",
    "    [int(3), int(1), int(2)],\n",
    "    np.nan\n",
    ")\n",
    "df[\"Grade\"].to_csv(\"labelled_dataset.csv\")\n"
   ]
  }
 ],
 "metadata": {
  "interpreter": {
   "hash": "aee8b7b246df8f9039afb4144a1f6fd8d2ca17a180786b69acc140d282b71a49"
  },
  "kernelspec": {
   "display_name": "Python 3.10.0 64-bit",
   "language": "python",
   "name": "python3"
  },
  "language_info": {
   "codemirror_mode": {
    "name": "ipython",
    "version": 3
   },
   "file_extension": ".py",
   "mimetype": "text/x-python",
   "name": "python",
   "nbconvert_exporter": "python",
   "pygments_lexer": "ipython3",
   "version": "3.10.0"
  },
  "orig_nbformat": 4
 },
 "nbformat": 4,
 "nbformat_minor": 2
}
