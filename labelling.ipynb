{
 "cells": [
  {
   "cell_type": "code",
   "execution_count": 18,
   "metadata": {},
   "outputs": [],
   "source": [
    "import pandas as pd\n",
    "import numpy as np\n",
    "\n",
    "df= pd.read_csv(\"master_dataset.csv\")\n",
    "df[\"Grade\"] = np.select(\n",
    "    [df[\"effort(s)\"] > 10000,\n",
    "     df[\"effort(s)\"] <= 3600,\n",
    "     df[\"effort(s)\"].between(3600, 10000)],\n",
    "    [int(3), int(1), int(2)],\n",
    "    np.nan\n",
    ")\n",
    "df[\"Grade\"].to_csv(\"labelled_dataset.csv\")\n"
   ]
  },
  {
   "cell_type": "code",
   "execution_count": 19,
   "metadata": {},
   "outputs": [
    {
     "name": "stdout",
     "output_type": "stream",
     "text": [
      "Grade\n",
      "1.0    54046\n",
      "2.0    24077\n",
      "3.0     9863\n",
      "dtype: int64\n"
     ]
    }
   ],
   "source": [
    "labelled_df = pd.read_csv(\"labelled_dataset.csv\")\n",
    "counts = labelled_df.pivot_table(index = [\"Grade\"], aggfunc ='size')\n",
    "print(counts)"
   ]
  }
 ],
 "metadata": {
  "kernelspec": {
   "display_name": "Python 3",
   "language": "python",
   "name": "python3"
  },
  "language_info": {
   "codemirror_mode": {
    "name": "ipython",
    "version": 3
   },
   "file_extension": ".py",
   "mimetype": "text/x-python",
   "name": "python",
   "nbconvert_exporter": "python",
   "pygments_lexer": "ipython3",
   "version": "3.8.5 (tags/v3.8.5:580fbb0, Jul 20 2020, 15:57:54) [MSC v.1924 64 bit (AMD64)]"
  },
  "orig_nbformat": 4,
  "vscode": {
   "interpreter": {
    "hash": "9650cb4e16cdd4a8e8e2d128bf38d875813998db22a3c986335f89e0cb4d7bb2"
   }
  }
 },
 "nbformat": 4,
 "nbformat_minor": 2
}
